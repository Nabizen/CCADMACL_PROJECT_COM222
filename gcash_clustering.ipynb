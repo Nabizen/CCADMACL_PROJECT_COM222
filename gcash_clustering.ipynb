{
 "cells": [
  {
   "cell_type": "markdown",
   "metadata": {},
   "source": [
    "##### How can user review/feedback be effectively grouped to identify key areas for app improvement? / Can we Identify common technical issues and feature request based on user reviews to improve the application user experience?"
   ]
  },
  {
   "cell_type": "code",
   "execution_count": 38,
   "metadata": {},
   "outputs": [],
   "source": [
    "import pandas as pd\n",
    "\n",
    "from sklearn.feature_extraction.text import TfidfVectorizer"
   ]
  },
  {
   "cell_type": "code",
   "execution_count": 39,
   "metadata": {},
   "outputs": [],
   "source": [
    "df = pd.read_csv('gcash-2023-formatted.csv')"
   ]
  },
  {
   "cell_type": "code",
   "execution_count": 40,
   "metadata": {},
   "outputs": [
    {
     "data": {
      "text/html": [
       "<div>\n",
       "<style scoped>\n",
       "    .dataframe tbody tr th:only-of-type {\n",
       "        vertical-align: middle;\n",
       "    }\n",
       "\n",
       "    .dataframe tbody tr th {\n",
       "        vertical-align: top;\n",
       "    }\n",
       "\n",
       "    .dataframe thead th {\n",
       "        text-align: right;\n",
       "    }\n",
       "</style>\n",
       "<table border=\"1\" class=\"dataframe\">\n",
       "  <thead>\n",
       "    <tr style=\"text-align: right;\">\n",
       "      <th></th>\n",
       "      <th>Unnamed: 0.1</th>\n",
       "      <th>Unnamed: 0</th>\n",
       "      <th>review_text</th>\n",
       "      <th>review_rating</th>\n",
       "      <th>review_datetime_utc</th>\n",
       "      <th>review_likes</th>\n",
       "      <th>review_text_formatted</th>\n",
       "    </tr>\n",
       "  </thead>\n",
       "  <tbody>\n",
       "    <tr>\n",
       "      <th>0</th>\n",
       "      <td>454628</td>\n",
       "      <td>454628</td>\n",
       "      <td>Gcash Wallet</td>\n",
       "      <td>5</td>\n",
       "      <td>2023-01-01T00:24:41.000Z</td>\n",
       "      <td>0</td>\n",
       "      <td>NaN</td>\n",
       "    </tr>\n",
       "    <tr>\n",
       "      <th>1</th>\n",
       "      <td>454629</td>\n",
       "      <td>454629</td>\n",
       "      <td>When I open my g-cash, I got to choose later &amp;...</td>\n",
       "      <td>1</td>\n",
       "      <td>2023-01-01T00:41:06.000Z</td>\n",
       "      <td>0</td>\n",
       "      <td>['open', 'gcash', 'get', 'choose', 'late', 'tr...</td>\n",
       "    </tr>\n",
       "    <tr>\n",
       "      <th>2</th>\n",
       "      <td>454630</td>\n",
       "      <td>454630</td>\n",
       "      <td>Need this</td>\n",
       "      <td>5</td>\n",
       "      <td>2023-01-01T01:40:05.000Z</td>\n",
       "      <td>0</td>\n",
       "      <td>NaN</td>\n",
       "    </tr>\n",
       "    <tr>\n",
       "      <th>3</th>\n",
       "      <td>454631</td>\n",
       "      <td>454631</td>\n",
       "      <td>Stupid app i used my original psa but they tol...</td>\n",
       "      <td>1</td>\n",
       "      <td>2023-01-01T01:46:15.000Z</td>\n",
       "      <td>0</td>\n",
       "      <td>['stupid', 'application', 'use', 'original', '...</td>\n",
       "    </tr>\n",
       "    <tr>\n",
       "      <th>4</th>\n",
       "      <td>454632</td>\n",
       "      <td>454632</td>\n",
       "      <td>app keeps disappearing</td>\n",
       "      <td>1</td>\n",
       "      <td>2023-01-01T02:07:54.000Z</td>\n",
       "      <td>0</td>\n",
       "      <td>['application', 'keep', 'disappearing']</td>\n",
       "    </tr>\n",
       "  </tbody>\n",
       "</table>\n",
       "</div>"
      ],
      "text/plain": [
       "   Unnamed: 0.1  Unnamed: 0  \\\n",
       "0        454628      454628   \n",
       "1        454629      454629   \n",
       "2        454630      454630   \n",
       "3        454631      454631   \n",
       "4        454632      454632   \n",
       "\n",
       "                                         review_text  review_rating  \\\n",
       "0                                       Gcash Wallet              5   \n",
       "1  When I open my g-cash, I got to choose later &...              1   \n",
       "2                                          Need this              5   \n",
       "3  Stupid app i used my original psa but they tol...              1   \n",
       "4                             app keeps disappearing              1   \n",
       "\n",
       "        review_datetime_utc  review_likes  \\\n",
       "0  2023-01-01T00:24:41.000Z             0   \n",
       "1  2023-01-01T00:41:06.000Z             0   \n",
       "2  2023-01-01T01:40:05.000Z             0   \n",
       "3  2023-01-01T01:46:15.000Z             0   \n",
       "4  2023-01-01T02:07:54.000Z             0   \n",
       "\n",
       "                               review_text_formatted  \n",
       "0                                                NaN  \n",
       "1  ['open', 'gcash', 'get', 'choose', 'late', 'tr...  \n",
       "2                                                NaN  \n",
       "3  ['stupid', 'application', 'use', 'original', '...  \n",
       "4            ['application', 'keep', 'disappearing']  "
      ]
     },
     "execution_count": 40,
     "metadata": {},
     "output_type": "execute_result"
    }
   ],
   "source": [
    "df.head()"
   ]
  },
  {
   "cell_type": "markdown",
   "metadata": {},
   "source": [
    "# Data Pre-Processing"
   ]
  },
  {
   "cell_type": "code",
   "execution_count": 55,
   "metadata": {},
   "outputs": [
    {
     "name": "stdout",
     "output_type": "stream",
     "text": [
      "<class 'pandas.core.frame.DataFrame'>\n",
      "Index: 75320 entries, 1 to 133049\n",
      "Data columns (total 5 columns):\n",
      " #   Column                 Non-Null Count  Dtype \n",
      "---  ------                 --------------  ----- \n",
      " 0   review_text            75320 non-null  object\n",
      " 1   review_rating          75320 non-null  int64 \n",
      " 2   review_likes           75320 non-null  int64 \n",
      " 3   review_text_formatted  75320 non-null  object\n",
      " 4   text_length            75320 non-null  int64 \n",
      "dtypes: int64(3), object(2)\n",
      "memory usage: 3.4+ MB\n"
     ]
    }
   ],
   "source": [
    "df.info()"
   ]
  },
  {
   "cell_type": "code",
   "execution_count": 42,
   "metadata": {},
   "outputs": [
    {
     "name": "stdout",
     "output_type": "stream",
     "text": [
      "Unnamed: 0.1                 0\n",
      "Unnamed: 0                   0\n",
      "review_text                  0\n",
      "review_rating                0\n",
      "review_datetime_utc          0\n",
      "review_likes                 0\n",
      "review_text_formatted    52424\n",
      "dtype: int64\n"
     ]
    }
   ],
   "source": [
    "print(df.isna().sum())"
   ]
  },
  {
   "cell_type": "code",
   "execution_count": 43,
   "metadata": {},
   "outputs": [
    {
     "name": "stdout",
     "output_type": "stream",
     "text": [
      "review_rating\n",
      "1    61850\n",
      "5    48252\n",
      "2     8954\n",
      "3     7733\n",
      "4     6261\n",
      "Name: count, dtype: int64\n"
     ]
    }
   ],
   "source": [
    "print(df['review_rating'].value_counts())"
   ]
  },
  {
   "cell_type": "code",
   "execution_count": 44,
   "metadata": {},
   "outputs": [],
   "source": [
    "df.drop(columns=['Unnamed: 0.1', 'Unnamed: 0','review_datetime_utc'], inplace=True)\n",
    "df.dropna(inplace=True)"
   ]
  },
  {
   "cell_type": "code",
   "execution_count": 45,
   "metadata": {},
   "outputs": [
    {
     "data": {
      "text/html": [
       "<div>\n",
       "<style scoped>\n",
       "    .dataframe tbody tr th:only-of-type {\n",
       "        vertical-align: middle;\n",
       "    }\n",
       "\n",
       "    .dataframe tbody tr th {\n",
       "        vertical-align: top;\n",
       "    }\n",
       "\n",
       "    .dataframe thead th {\n",
       "        text-align: right;\n",
       "    }\n",
       "</style>\n",
       "<table border=\"1\" class=\"dataframe\">\n",
       "  <thead>\n",
       "    <tr style=\"text-align: right;\">\n",
       "      <th></th>\n",
       "      <th>review_text</th>\n",
       "      <th>review_rating</th>\n",
       "      <th>review_likes</th>\n",
       "      <th>review_text_formatted</th>\n",
       "    </tr>\n",
       "  </thead>\n",
       "  <tbody>\n",
       "    <tr>\n",
       "      <th>1</th>\n",
       "      <td>When I open my g-cash, I got to choose later &amp;...</td>\n",
       "      <td>1</td>\n",
       "      <td>0</td>\n",
       "      <td>['open', 'gcash', 'get', 'choose', 'late', 'tr...</td>\n",
       "    </tr>\n",
       "    <tr>\n",
       "      <th>3</th>\n",
       "      <td>Stupid app i used my original psa but they tol...</td>\n",
       "      <td>1</td>\n",
       "      <td>0</td>\n",
       "      <td>['stupid', 'application', 'use', 'original', '...</td>\n",
       "    </tr>\n",
       "    <tr>\n",
       "      <th>4</th>\n",
       "      <td>app keeps disappearing</td>\n",
       "      <td>1</td>\n",
       "      <td>0</td>\n",
       "      <td>['application', 'keep', 'disappearing']</td>\n",
       "    </tr>\n",
       "    <tr>\n",
       "      <th>7</th>\n",
       "      <td>Good but I can't dl it anymore why?</td>\n",
       "      <td>5</td>\n",
       "      <td>0</td>\n",
       "      <td>['good', 'negativelabel', 'download', 'anymore']</td>\n",
       "    </tr>\n",
       "    <tr>\n",
       "      <th>9</th>\n",
       "      <td>Lage nawawala sa cp ko di ko.alam kung bakit.</td>\n",
       "      <td>1</td>\n",
       "      <td>0</td>\n",
       "      <td>['palagi', 'nawawala', 'phone', 'alam']</td>\n",
       "    </tr>\n",
       "  </tbody>\n",
       "</table>\n",
       "</div>"
      ],
      "text/plain": [
       "                                         review_text  review_rating  \\\n",
       "1  When I open my g-cash, I got to choose later &...              1   \n",
       "3  Stupid app i used my original psa but they tol...              1   \n",
       "4                             app keeps disappearing              1   \n",
       "7                Good but I can't dl it anymore why?              5   \n",
       "9      Lage nawawala sa cp ko di ko.alam kung bakit.              1   \n",
       "\n",
       "   review_likes                              review_text_formatted  \n",
       "1             0  ['open', 'gcash', 'get', 'choose', 'late', 'tr...  \n",
       "3             0  ['stupid', 'application', 'use', 'original', '...  \n",
       "4             0            ['application', 'keep', 'disappearing']  \n",
       "7             0   ['good', 'negativelabel', 'download', 'anymore']  \n",
       "9             0            ['palagi', 'nawawala', 'phone', 'alam']  "
      ]
     },
     "execution_count": 45,
     "metadata": {},
     "output_type": "execute_result"
    }
   ],
   "source": [
    "df.head()"
   ]
  },
  {
   "cell_type": "code",
   "execution_count": 46,
   "metadata": {},
   "outputs": [],
   "source": [
    "import re\n",
    "\n",
    "df['review_text_formatted'] = df['review_text_formatted'].apply(\n",
    "    lambda x: re.sub(r\"[\\[\\]']\", '', x)  # Removes [, ], and ' characters\n",
    ")\n",
    "\n",
    "df['review_text_formatted'] = df['review_text_formatted'].apply(\n",
    "    lambda x: x.replace(',', '') if isinstance(x, str) else x\n",
    ")"
   ]
  },
  {
   "cell_type": "code",
   "execution_count": 47,
   "metadata": {},
   "outputs": [
    {
     "data": {
      "text/html": [
       "<div>\n",
       "<style scoped>\n",
       "    .dataframe tbody tr th:only-of-type {\n",
       "        vertical-align: middle;\n",
       "    }\n",
       "\n",
       "    .dataframe tbody tr th {\n",
       "        vertical-align: top;\n",
       "    }\n",
       "\n",
       "    .dataframe thead th {\n",
       "        text-align: right;\n",
       "    }\n",
       "</style>\n",
       "<table border=\"1\" class=\"dataframe\">\n",
       "  <thead>\n",
       "    <tr style=\"text-align: right;\">\n",
       "      <th></th>\n",
       "      <th>review_text</th>\n",
       "      <th>review_rating</th>\n",
       "      <th>review_likes</th>\n",
       "      <th>review_text_formatted</th>\n",
       "    </tr>\n",
       "  </thead>\n",
       "  <tbody>\n",
       "    <tr>\n",
       "      <th>1</th>\n",
       "      <td>When I open my g-cash, I got to choose later &amp;...</td>\n",
       "      <td>1</td>\n",
       "      <td>0</td>\n",
       "      <td>open gcash get choose late try gcash icon auto...</td>\n",
       "    </tr>\n",
       "    <tr>\n",
       "      <th>3</th>\n",
       "      <td>Stupid app i used my original psa but they tol...</td>\n",
       "      <td>1</td>\n",
       "      <td>0</td>\n",
       "      <td>stupid application use original psa tell verif...</td>\n",
       "    </tr>\n",
       "    <tr>\n",
       "      <th>4</th>\n",
       "      <td>app keeps disappearing</td>\n",
       "      <td>1</td>\n",
       "      <td>0</td>\n",
       "      <td>application keep disappearing</td>\n",
       "    </tr>\n",
       "    <tr>\n",
       "      <th>7</th>\n",
       "      <td>Good but I can't dl it anymore why?</td>\n",
       "      <td>5</td>\n",
       "      <td>0</td>\n",
       "      <td>good negativelabel download anymore</td>\n",
       "    </tr>\n",
       "    <tr>\n",
       "      <th>9</th>\n",
       "      <td>Lage nawawala sa cp ko di ko.alam kung bakit.</td>\n",
       "      <td>1</td>\n",
       "      <td>0</td>\n",
       "      <td>palagi nawawala phone alam</td>\n",
       "    </tr>\n",
       "  </tbody>\n",
       "</table>\n",
       "</div>"
      ],
      "text/plain": [
       "                                         review_text  review_rating  \\\n",
       "1  When I open my g-cash, I got to choose later &...              1   \n",
       "3  Stupid app i used my original psa but they tol...              1   \n",
       "4                             app keeps disappearing              1   \n",
       "7                Good but I can't dl it anymore why?              5   \n",
       "9      Lage nawawala sa cp ko di ko.alam kung bakit.              1   \n",
       "\n",
       "   review_likes                              review_text_formatted  \n",
       "1             0  open gcash get choose late try gcash icon auto...  \n",
       "3             0  stupid application use original psa tell verif...  \n",
       "4             0                      application keep disappearing  \n",
       "7             0                good negativelabel download anymore  \n",
       "9             0                         palagi nawawala phone alam  "
      ]
     },
     "execution_count": 47,
     "metadata": {},
     "output_type": "execute_result"
    }
   ],
   "source": [
    "df.head()"
   ]
  },
  {
   "cell_type": "code",
   "execution_count": 48,
   "metadata": {},
   "outputs": [
    {
     "name": "stdout",
     "output_type": "stream",
     "text": [
      "5306\n"
     ]
    }
   ],
   "source": [
    "print(df.duplicated(subset=['review_text_formatted']).sum())\n",
    "df = df.drop_duplicates(subset=['review_text_formatted'])"
   ]
  },
  {
   "cell_type": "markdown",
   "metadata": {},
   "source": [
    "# Exploratory Data Analysis"
   ]
  },
  {
   "cell_type": "markdown",
   "metadata": {},
   "source": [
    "Top 20 Most Frequent Words in Reviews"
   ]
  },
  {
   "cell_type": "code",
   "execution_count": 49,
   "metadata": {},
   "outputs": [
    {
     "name": "stdout",
     "output_type": "stream",
     "text": [
      "[('negativelabel', 47101), ('application', 32531), ('gcash', 25791), ('update', 19339), ('open', 11664), ('account', 10820), ('money', 10480), ('use', 10183), ('always', 9454), ('need', 7908), ('verify', 6872), ('ninyo', 6529), ('please', 6487), ('fix', 6117), ('time', 6084), ('good', 5572), ('even', 5362), ('say', 5287), ('keep', 4933), ('log', 4607)]\n"
     ]
    }
   ],
   "source": [
    "from collections import Counter\n",
    "\n",
    "word_list = df['review_text_formatted'].str.split().explode()  # Flatten tokenized words\n",
    "word_freq = Counter(word_list)\n",
    "\n",
    "# View top 20 words\n",
    "print(word_freq.most_common(20))"
   ]
  },
  {
   "cell_type": "code",
   "execution_count": 50,
   "metadata": {},
   "outputs": [
    {
     "data": {
      "image/png": "[encoded data removed]",
      "text/plain": [
       "<Figure size 1200x600 with 1 Axes>"
      ]
     },
     "metadata": {},
     "output_type": "display_data"
    }
   ],
   "source": [
    "from matplotlib import pyplot as plt\n",
    "import seaborn as sns\n",
    "\n",
    "import pandas as pd\n",
    "\n",
    "top_words = pd.DataFrame(word_freq.most_common(20), columns=['Word', 'Count'])\n",
    "\n",
    "plt.figure(figsize=(12, 6))\n",
    "sns.barplot(x='Count', y='Word', data=top_words)\n",
    "plt.title(\"Top 20 Most Frequent Words in Reviews\")\n",
    "plt.show()\n"
   ]
  },
  {
   "cell_type": "markdown",
   "metadata": {},
   "source": [
    "Distribution of Review Lengths"
   ]
  },
  {
   "cell_type": "code",
   "execution_count": 51,
   "metadata": {},
   "outputs": [
    {
     "name": "stdout",
     "output_type": "stream",
     "text": [
      "count    75320.000000\n",
      "mean        11.001567\n",
      "std          9.223859\n",
      "min          3.000000\n",
      "25%          5.000000\n",
      "50%          8.000000\n",
      "75%         14.000000\n",
      "max         84.000000\n",
      "Name: text_length, dtype: float64\n"
     ]
    }
   ],
   "source": [
    "df['text_length'] = df['review_text_formatted'].apply(lambda x: len(x.split()))\n",
    "print(df['text_length'].describe())  # Summary stats"
   ]
  },
  {
   "cell_type": "code",
   "execution_count": 52,
   "metadata": {},
   "outputs": [
    {
     "data": {
      "image/png": "[encoded data removed]",
      "text/plain": [
       "<Figure size 640x480 with 1 Axes>"
      ]
     },
     "metadata": {},
     "output_type": "display_data"
    }
   ],
   "source": [
    "import matplotlib.pyplot as plt\n",
    "import seaborn as sns\n",
    "\n",
    "sns.histplot(df['text_length'], bins=30, kde=True)\n",
    "plt.xlabel(\"Number of Words\")\n",
    "plt.ylabel(\"Frequency\")\n",
    "plt.title(\"Distribution of Review Lengths\")\n",
    "plt.show()\n"
   ]
  },
  {
   "cell_type": "markdown",
   "metadata": {},
   "source": [
    "# Feature Representation\n",
    "\n",
    "We will be testing both TF-IDF and Multilingual BERT (mBERT) (FilipinoBERT)\n",
    "\n",
    "TF-IDF - Fast and simple but requires stopwords to prevent those words from being the top words <br>\n",
    "FilipinoBERT - Meaningful and context-aware but requires more setup"
   ]
  },
  {
   "cell_type": "code",
   "execution_count": 53,
   "metadata": {},
   "outputs": [],
   "source": [
    "vectorizer = TfidfVectorizer(sublinear_tf=True, min_df=5, max_df=0.95)\n",
    "X = vectorizer.fit_transform(df['review_text_formatted']).toarray()"
   ]
  },
  {
   "cell_type": "code",
   "execution_count": 54,
   "metadata": {},
   "outputs": [
    {
     "name": "stdout",
     "output_type": "stream",
     "text": [
      "       100x  10th  10x  11th  1gb  1hour  1st  1star  1week  1yr  ...  yuck  \\\n",
      "0       0.0   0.0  0.0   0.0  0.0    0.0  0.0    0.0    0.0  0.0  ...   0.0   \n",
      "1       0.0   0.0  0.0   0.0  0.0    0.0  0.0    0.0    0.0  0.0  ...   0.0   \n",
      "2       0.0   0.0  0.0   0.0  0.0    0.0  0.0    0.0    0.0  0.0  ...   0.0   \n",
      "3       0.0   0.0  0.0   0.0  0.0    0.0  0.0    0.0    0.0  0.0  ...   0.0   \n",
      "4       0.0   0.0  0.0   0.0  0.0    0.0  0.0    0.0    0.0  0.0  ...   0.0   \n",
      "...     ...   ...  ...   ...  ...    ...  ...    ...    ...  ...  ...   ...   \n",
      "75315   0.0   0.0  0.0   0.0  0.0    0.0  0.0    0.0    0.0  0.0  ...   0.0   \n",
      "75316   0.0   0.0  0.0   0.0  0.0    0.0  0.0    0.0    0.0  0.0  ...   0.0   \n",
      "75317   0.0   0.0  0.0   0.0  0.0    0.0  0.0    0.0    0.0  0.0  ...   0.0   \n",
      "75318   0.0   0.0  0.0   0.0  0.0    0.0  0.0    0.0    0.0  0.0  ...   0.0   \n",
      "75319   0.0   0.0  0.0   0.0  0.0    0.0  0.0    0.0    0.0  0.0  ...   0.0   \n",
      "\n",
      "       yumayaman  yun  yungcash  yunh   yw  ywa  zero  zoloz  zzz  \n",
      "0            0.0  0.0       0.0   0.0  0.0  0.0   0.0    0.0  0.0  \n",
      "1            0.0  0.0       0.0   0.0  0.0  0.0   0.0    0.0  0.0  \n",
      "2            0.0  0.0       0.0   0.0  0.0  0.0   0.0    0.0  0.0  \n",
      "3            0.0  0.0       0.0   0.0  0.0  0.0   0.0    0.0  0.0  \n",
      "4            0.0  0.0       0.0   0.0  0.0  0.0   0.0    0.0  0.0  \n",
      "...          ...  ...       ...   ...  ...  ...   ...    ...  ...  \n",
      "75315        0.0  0.0       0.0   0.0  0.0  0.0   0.0    0.0  0.0  \n",
      "75316        0.0  0.0       0.0   0.0  0.0  0.0   0.0    0.0  0.0  \n",
      "75317        0.0  0.0       0.0   0.0  0.0  0.0   0.0    0.0  0.0  \n",
      "75318        0.0  0.0       0.0   0.0  0.0  0.0   0.0    0.0  0.0  \n",
      "75319        0.0  0.0       0.0   0.0  0.0  0.0   0.0    0.0  0.0  \n",
      "\n",
      "[75320 rows x 5658 columns]\n"
     ]
    }
   ],
   "source": [
    "df_tfidf = pd.DataFrame(X, columns=vectorizer.get_feature_names_out())\n",
    "print(df_tfidf)"
   ]
  },
  {
   "cell_type": "code",
   "execution_count": 56,
   "metadata": {},
   "outputs": [
    {
     "data": {
      "text/plain": [
       "'yes'"
      ]
     },
     "execution_count": 56,
     "metadata": {},
     "output_type": "execute_result"
    }
   ],
   "source": [
    "\"yes\""
   ]
  }
 ],
 "metadata": {
  "kernelspec": {
   "display_name": "COM222",
   "language": "python",
   "name": "python3"
  },
  "language_info": {
   "codemirror_mode": {
    "name": "ipython",
    "version": 3
   },
   "file_extension": ".py",
   "mimetype": "text/x-python",
   "name": "python",
   "nbconvert_exporter": "python",
   "pygments_lexer": "ipython3",
   "version": "3.11.9"
  }
 },
 "nbformat": 4,
 "nbformat_minor": 2
}
